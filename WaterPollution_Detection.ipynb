{
  "cells": [
    {
      "cell_type": "markdown",
      "metadata": {
        "id": "k5b2A6NflxK8"
      },
      "source": [
        "### **Polluted River Detection**  \n",
        "Multi-class image classification model using VGG-16 to identify river conditions: clean, trash-polluted, chemical-polluted using VGG-16."
      ]
    },
    {
      "cell_type": "markdown",
      "metadata": {
        "id": "Kbw23sFyr2lK"
      },
      "source": [
        "### 1. Data Acquisition"
      ]
    },
    {
      "cell_type": "code",
      "execution_count": null,
      "metadata": {
        "id": "73FRragcu34F"
      },
      "outputs": [],
      "source": [
        "import pandas as pd\n",
        "import numpy as np\n",
        "import os\n",
        "import tensorflow as tf\n",
        "from sklearn.metrics import classification_report"
      ]
    },
    {
      "cell_type": "code",
      "execution_count": null,
      "metadata": {
        "colab": {
          "base_uri": "https://localhost:8080/"
        },
        "id": "tCsASglgFGxz",
        "outputId": "d17b7eb4-621e-4b19-c896-d1a613623d6d"
      },
      "outputs": [
        {
          "name": "stdout",
          "output_type": "stream",
          "text": [
            "Drive already mounted at /content/gdrive; to attempt to forcibly remount, call drive.mount(\"/content/gdrive\", force_remount=True).\n"
          ]
        }
      ],
      "source": [
        "from google.colab import drive\n",
        "drive.mount('/content/gdrive')"
      ]
    },
    {
      "cell_type": "code",
      "execution_count": null,
      "metadata": {
        "colab": {
          "base_uri": "https://localhost:8080/"
        },
        "id": "qpYM0M56mFlA",
        "outputId": "98181334-62fd-46b0-f448-109c6ebc222d"
      },
      "outputs": [
        {
          "name": "stdout",
          "output_type": "stream",
          "text": [
            "[Errno 2] No such file or directory: 'gdrive/Shareddrives/Pattern Recognition/rivers/'\n",
            "/content/gdrive/.shortcut-targets-by-id/1nSt0rdvo-ZA_oQpdU1UASu-t3n_J8_8_/rivers\n"
          ]
        }
      ],
      "source": [
        "cd gdrive/Shareddrives/Pattern Recognition/rivers/"
      ]
    },
    {
      "cell_type": "markdown",
      "metadata": {
        "id": "GlChC0TdzMrq"
      },
      "source": [
        "### 2. Data Split (Empty output directory to run)"
      ]
    },
    {
      "cell_type": "code",
      "execution_count": null,
      "metadata": {
        "id": "9ECm5ZaTmiOL"
      },
      "outputs": [],
      "source": [
        "import shutil\n",
        "import random\n",
        "import math\n",
        "\n",
        "root_dir = './input/classes'\n",
        "classes = ['clean', 'trash', 'chemicals']"
      ]
    },
    {
      "cell_type": "code",
      "execution_count": null,
      "metadata": {
        "id": "di6nwUTFmW_T"
      },
      "outputs": [],
      "source": [
        "os.makedirs('./output/train')\n",
        "os.makedirs('./output/test')"
      ]
    },
    {
      "cell_type": "code",
      "execution_count": null,
      "metadata": {
        "colab": {
          "base_uri": "https://localhost:8080/"
        },
        "id": "mTRhwVtvox0_",
        "outputId": "f0f407cc-78df-40f3-b5dd-490f649a770f"
      },
      "outputs": [
        {
          "name": "stdout",
          "output_type": "stream",
          "text": [
            "Splitting clean class\n",
            "Splitting trash class\n",
            "Splitting chemicals class\n"
          ]
        }
      ],
      "source": [
        "for clss in classes:\n",
        "  print('Splitting ' + clss + ' class')\n",
        "  dirtry = root_dir + '/' + clss\n",
        "  files = os.listdir(dirtry)\n",
        "  np.random.shuffle(files)\n",
        "\n",
        "  base_outdir = './output/'\n",
        "\n",
        "  for folder in ['train', 'test']:\n",
        "      target_dir = base_outdir + folder\n",
        "      os.makedirs(target_dir + '/' + clss)\n",
        "      target_class = target_dir + '/' + clss\n",
        "\n",
        "      if folder == 'train':\n",
        "          images_to_pass = files[: math.floor(0.91*len(files))]\n",
        "          for img in images_to_pass:\n",
        "              img = dirtry + '/' + img\n",
        "              shutil.copy(img, target_class)\n",
        "      else:\n",
        "          images_to_pass = files[math.floor(0.91*len(files)):]\n",
        "          for img in images_to_pass:\n",
        "              img = dirtry + '/' + img\n",
        "              shutil.copy(img, target_class)"
      ]
    },
    {
      "cell_type": "code",
      "execution_count": null,
      "metadata": {
        "colab": {
          "base_uri": "https://localhost:8080/"
        },
        "id": "T5aMPTcApjaY",
        "outputId": "d2a38912-a7e1-47b6-c7f6-2a01f7fcfd6e"
      },
      "outputs": [
        {
          "name": "stdout",
          "output_type": "stream",
          "text": [
            "training images: 150\n",
            "testing images: 15\n"
          ]
        }
      ],
      "source": [
        "train_sum = 0\n",
        "for river in os.listdir('./output/train'):\n",
        "  lnk = './output/train/' + river\n",
        "  train_sum += len(os.listdir(lnk))\n",
        "\n",
        "test_sum = 0\n",
        "for river in os.listdir('./output/test'):\n",
        "  lnk = './output/test/' + river\n",
        "  test_sum += len(os.listdir(lnk))\n",
        "\n",
        "print('training images:', train_sum)\n",
        "print('testing images:', test_sum)"
      ]
    },
    {
      "cell_type": "markdown",
      "metadata": {
        "id": "dxjY7ZBFzCk0"
      },
      "source": [
        "### 3. Data Augmentation"
      ]
    },
    {
      "cell_type": "code",
      "execution_count": null,
      "metadata": {
        "id": "hE2B02eYu5cY"
      },
      "outputs": [],
      "source": [
        "from tensorflow.keras.preprocessing import image\n",
        "from tensorflow.keras.models import Sequential, Model\n",
        "from tensorflow.keras.layers import Conv2D, MaxPooling2D, Flatten, Dense, Dropout, Activation\n",
        "from tensorflow.keras.preprocessing.image import ImageDataGenerator\n",
        "from tensorflow.keras.applications.vgg16 import VGG16, preprocess_input\n",
        "from tensorflow.keras.callbacks import ModelCheckpoint, EarlyStopping\n",
        "from tensorflow.keras.optimizers import Adam"
      ]
    },
    {
      "cell_type": "code",
      "execution_count": null,
      "metadata": {
        "id": "4cIDBC1Ku8QU"
      },
      "outputs": [],
      "source": [
        "valid_dir=\"./output/val/\"\n",
        "train_dir=\"./output/train/\"\n",
        "test_dir=\"./output/test/\""
      ]
    },
    {
      "cell_type": "code",
      "execution_count": null,
      "metadata": {
        "id": "xZU8HvDH58HG"
      },
      "outputs": [],
      "source": [
        "class_subset = sorted(os.listdir('./input/classes/'))[:3]\n",
        "batch_size = 16"
      ]
    },
    {
      "cell_type": "code",
      "execution_count": null,
      "metadata": {
        "colab": {
          "base_uri": "https://localhost:8080/"
        },
        "id": "w7zP47kJ1a1Z",
        "outputId": "f7b68e57-74e7-4f79-92a9-339a56eab6e9"
      },
      "outputs": [
        {
          "name": "stdout",
          "output_type": "stream",
          "text": [
            "Found 119 images belonging to 3 classes.\n",
            "Found 29 images belonging to 3 classes.\n",
            "Found 14 images belonging to 3 classes.\n"
          ]
        }
      ],
      "source": [
        "traingen = ImageDataGenerator(rotation_range=45,\n",
        "                              brightness_range=[0.1, 0.7],\n",
        "                              width_shift_range=0.5,\n",
        "                              height_shift_range=0.5,\n",
        "                              horizontal_flip=True,\n",
        "                              validation_split=0.2,\n",
        "                              preprocessing_function=preprocess_input)\n",
        "\n",
        "testgen = ImageDataGenerator(preprocessing_function=preprocess_input)\n",
        "\n",
        "training_set = traingen.flow_from_directory(train_dir,\n",
        "                                            target_size = (300, 300),\n",
        "                                            batch_size = batch_size,\n",
        "                                            class_mode = 'categorical',\n",
        "                                            classes=class_subset,\n",
        "                                            subset='training',\n",
        "                                            shuffle = True)\n",
        "\n",
        "valid_set = traingen.flow_from_directory(train_dir,\n",
        "                                            target_size = (300, 300),\n",
        "                                            batch_size = batch_size,\n",
        "                                            class_mode = 'categorical',\n",
        "                                            classes=class_subset,\n",
        "                                            subset='validation',\n",
        "                                            shuffle = True)\n",
        "\n",
        "testing_set = testgen.flow_from_directory(test_dir,\n",
        "                                          target_size = (300, 300),\n",
        "                                          class_mode=None,\n",
        "                                          classes=class_subset,\n",
        "                                          batch_size=1,\n",
        "                                          shuffle=False)"
      ]
    },
    {
      "cell_type": "markdown",
      "metadata": {
        "id": "ZtcoSLD2yrcw"
      },
      "source": [
        "### 4. Model architecture"
      ]
    },
    {
      "cell_type": "code",
      "execution_count": null,
      "metadata": {
        "id": "6r_hNkAZ6vHs"
      },
      "outputs": [],
      "source": [
        "def create_model(input_shape, n_classes, optimizer='rmsprop', fine_tune=0):\n",
        "\n",
        "    conv_base = VGG16(include_top=False,\n",
        "                     weights='imagenet',\n",
        "                     input_shape=input_shape)\n",
        "\n",
        "    if fine_tune > 0:\n",
        "        for layer in conv_base.layers[:-fine_tune]:\n",
        "            layer.trainable = False\n",
        "    else:\n",
        "        for layer in conv_base.layers:\n",
        "            layer.trainable = False\n",
        "\n",
        "    top_model = conv_base.output\n",
        "    top_model = Flatten(name=\"flatten\")(top_model)\n",
        "    top_model = Dense(4096, activation='relu')(top_model)\n",
        "    top_model = Dense(1072, activation='relu')(top_model)\n",
        "    top_model = Dropout(0.2)(top_model)\n",
        "    output_layer = Dense(n_classes, activation='softmax')(top_model)\n",
        "\n",
        "    model = Model(inputs=conv_base.input, outputs=output_layer)\n",
        "\n",
        "    model.compile(optimizer=optimizer,\n",
        "                  loss='categorical_crossentropy',\n",
        "                  metrics=['accuracy'])\n",
        "\n",
        "    return model"
      ]
    },
    {
      "cell_type": "code",
      "execution_count": null,
      "metadata": {
        "id": "iRixJt_j69vT"
      },
      "outputs": [],
      "source": [
        "input_shape = (300, 300, 3)\n",
        "n_classes = 3\n",
        "\n",
        "n_steps = training_set.samples // batch_size\n",
        "n_val_steps = valid_set.samples // batch_size\n",
        "n_epochs = 30"
      ]
    },
    {
      "cell_type": "code",
      "execution_count": null,
      "metadata": {
        "id": "op_C_HzqxXEd"
      },
      "outputs": [],
      "source": [
        "%pip install livelossplot --quiet"
      ]
    },
    {
      "cell_type": "code",
      "execution_count": null,
      "metadata": {
        "id": "6MrH0wbb8vlY"
      },
      "outputs": [],
      "source": [
        "from livelossplot.inputs.keras import PlotLossesCallback\n",
        "\n",
        "plot_loss_1 = PlotLossesCallback()\n",
        "\n",
        "plot_loss_2 = PlotLossesCallback()\n",
        "\n",
        "optim_1 = Adam(learning_rate=0.001)\n",
        "\n",
        "optim_2 = Adam(learning_rate=0.0001)\n",
        "\n",
        "tl_checkpoint_1 = ModelCheckpoint(filepath='tl_model_v1.weights.best.hdf5',\n",
        "                                  save_best_only=True,\n",
        "                                  verbose=1)\n",
        "\n",
        "tl_checkpoint_2 = ModelCheckpoint(filepath='tl_model_v1.weights.best.hdf5',\n",
        "                                  save_best_only=True,\n",
        "                                  verbose=1)\n",
        "\n",
        "early_stop = EarlyStopping(monitor='val_loss',\n",
        "                           patience=15,\n",
        "                           restore_best_weights=True,\n",
        "                           mode='min')"
      ]
    },
    {
      "cell_type": "code",
      "execution_count": null,
      "metadata": {
        "id": "13tCubFT7mLQ"
      },
      "outputs": [],
      "source": [
        "review_model_1 = create_model(input_shape, n_classes, optim_1, fine_tune=0)"
      ]
    },
    {
      "cell_type": "code",
      "execution_count": null,
      "metadata": {
        "id": "llUeeTAp8VU4"
      },
      "outputs": [],
      "source": [
        "review_model_2 = create_model(input_shape, n_classes, optim_2, fine_tune=2)"
      ]
    },
    {
      "cell_type": "code",
      "execution_count": null,
      "metadata": {
        "colab": {
          "base_uri": "https://localhost:8080/"
        },
        "id": "qxsFF_zV2YtC",
        "outputId": "8b77654f-60cb-47c5-ab91-27d0d14d2a8b"
      },
      "outputs": [
        {
          "name": "stdout",
          "output_type": "stream",
          "text": [
            "Model: \"model_4\"\n",
            "_________________________________________________________________\n",
            " Layer (type)                Output Shape              Param #   \n",
            "=================================================================\n",
            " input_5 (InputLayer)        [(None, 300, 300, 3)]     0         \n",
            "                                                                 \n",
            " block1_conv1 (Conv2D)       (None, 300, 300, 64)      1792      \n",
            "                                                                 \n",
            " block1_conv2 (Conv2D)       (None, 300, 300, 64)      36928     \n",
            "                                                                 \n",
            " block1_pool (MaxPooling2D)  (None, 150, 150, 64)      0         \n",
            "                                                                 \n",
            " block2_conv1 (Conv2D)       (None, 150, 150, 128)     73856     \n",
            "                                                                 \n",
            " block2_conv2 (Conv2D)       (None, 150, 150, 128)     147584    \n",
            "                                                                 \n",
            " block2_pool (MaxPooling2D)  (None, 75, 75, 128)       0         \n",
            "                                                                 \n",
            " block3_conv1 (Conv2D)       (None, 75, 75, 256)       295168    \n",
            "                                                                 \n",
            " block3_conv2 (Conv2D)       (None, 75, 75, 256)       590080    \n",
            "                                                                 \n",
            " block3_conv3 (Conv2D)       (None, 75, 75, 256)       590080    \n",
            "                                                                 \n",
            " block3_pool (MaxPooling2D)  (None, 37, 37, 256)       0         \n",
            "                                                                 \n",
            " block4_conv1 (Conv2D)       (None, 37, 37, 512)       1180160   \n",
            "                                                                 \n",
            " block4_conv2 (Conv2D)       (None, 37, 37, 512)       2359808   \n",
            "                                                                 \n",
            " block4_conv3 (Conv2D)       (None, 37, 37, 512)       2359808   \n",
            "                                                                 \n",
            " block4_pool (MaxPooling2D)  (None, 18, 18, 512)       0         \n",
            "                                                                 \n",
            " block5_conv1 (Conv2D)       (None, 18, 18, 512)       2359808   \n",
            "                                                                 \n",
            " block5_conv2 (Conv2D)       (None, 18, 18, 512)       2359808   \n",
            "                                                                 \n",
            " block5_conv3 (Conv2D)       (None, 18, 18, 512)       2359808   \n",
            "                                                                 \n",
            " block5_pool (MaxPooling2D)  (None, 9, 9, 512)         0         \n",
            "                                                                 \n",
            " flatten (Flatten)           (None, 41472)             0         \n",
            "                                                                 \n",
            " dense_12 (Dense)            (None, 4096)              169873408 \n",
            "                                                                 \n",
            " dense_13 (Dense)            (None, 1072)              4391984   \n",
            "                                                                 \n",
            " dropout_4 (Dropout)         (None, 1072)              0         \n",
            "                                                                 \n",
            " dense_14 (Dense)            (None, 3)                 3219      \n",
            "                                                                 \n",
            "=================================================================\n",
            "Total params: 188,983,299\n",
            "Trainable params: 174,268,611\n",
            "Non-trainable params: 14,714,688\n",
            "_________________________________________________________________\n"
          ]
        }
      ],
      "source": [
        "review_model_1.summary()"
      ]
    },
    {
      "cell_type": "code",
      "execution_count": null,
      "metadata": {
        "colab": {
          "base_uri": "https://localhost:8080/"
        },
        "id": "VaP8PZRW8aXs",
        "outputId": "e419b978-c1b3-4df8-cd93-813192cd6d2e"
      },
      "outputs": [
        {
          "name": "stdout",
          "output_type": "stream",
          "text": [
            "Model: \"model_5\"\n",
            "_________________________________________________________________\n",
            " Layer (type)                Output Shape              Param #   \n",
            "=================================================================\n",
            " input_6 (InputLayer)        [(None, 300, 300, 3)]     0         \n",
            "                                                                 \n",
            " block1_conv1 (Conv2D)       (None, 300, 300, 64)      1792      \n",
            "                                                                 \n",
            " block1_conv2 (Conv2D)       (None, 300, 300, 64)      36928     \n",
            "                                                                 \n",
            " block1_pool (MaxPooling2D)  (None, 150, 150, 64)      0         \n",
            "                                                                 \n",
            " block2_conv1 (Conv2D)       (None, 150, 150, 128)     73856     \n",
            "                                                                 \n",
            " block2_conv2 (Conv2D)       (None, 150, 150, 128)     147584    \n",
            "                                                                 \n",
            " block2_pool (MaxPooling2D)  (None, 75, 75, 128)       0         \n",
            "                                                                 \n",
            " block3_conv1 (Conv2D)       (None, 75, 75, 256)       295168    \n",
            "                                                                 \n",
            " block3_conv2 (Conv2D)       (None, 75, 75, 256)       590080    \n",
            "                                                                 \n",
            " block3_conv3 (Conv2D)       (None, 75, 75, 256)       590080    \n",
            "                                                                 \n",
            " block3_pool (MaxPooling2D)  (None, 37, 37, 256)       0         \n",
            "                                                                 \n",
            " block4_conv1 (Conv2D)       (None, 37, 37, 512)       1180160   \n",
            "                                                                 \n",
            " block4_conv2 (Conv2D)       (None, 37, 37, 512)       2359808   \n",
            "                                                                 \n",
            " block4_conv3 (Conv2D)       (None, 37, 37, 512)       2359808   \n",
            "                                                                 \n",
            " block4_pool (MaxPooling2D)  (None, 18, 18, 512)       0         \n",
            "                                                                 \n",
            " block5_conv1 (Conv2D)       (None, 18, 18, 512)       2359808   \n",
            "                                                                 \n",
            " block5_conv2 (Conv2D)       (None, 18, 18, 512)       2359808   \n",
            "                                                                 \n",
            " block5_conv3 (Conv2D)       (None, 18, 18, 512)       2359808   \n",
            "                                                                 \n",
            " block5_pool (MaxPooling2D)  (None, 9, 9, 512)         0         \n",
            "                                                                 \n",
            " flatten (Flatten)           (None, 41472)             0         \n",
            "                                                                 \n",
            " dense_15 (Dense)            (None, 4096)              169873408 \n",
            "                                                                 \n",
            " dense_16 (Dense)            (None, 1072)              4391984   \n",
            "                                                                 \n",
            " dropout_5 (Dropout)         (None, 1072)              0         \n",
            "                                                                 \n",
            " dense_17 (Dense)            (None, 3)                 3219      \n",
            "                                                                 \n",
            "=================================================================\n",
            "Total params: 188,983,299\n",
            "Trainable params: 176,628,419\n",
            "Non-trainable params: 12,354,880\n",
            "_________________________________________________________________\n"
          ]
        }
      ],
      "source": [
        "review_model_2.summary()"
      ]
    },
    {
      "cell_type": "code",
      "execution_count": null,
      "metadata": {
        "id": "WOOKLpWIxnhZ"
      },
      "outputs": [],
      "source": [
        "%pip install visualkeras --quiet"
      ]
    },
    {
      "cell_type": "code",
      "execution_count": null,
      "metadata": {
        "colab": {
          "base_uri": "https://localhost:8080/",
          "height": 253
        },
        "id": "Ik5YDpgNQj0R",
        "outputId": "c20ed2ae-afa9-4487-8bf4-5a2689979e7b"
      },
      "outputs": [
        {
          "data": {
            "image/png": "[encoded data removed]",
            "text/plain": [
              "<PIL.Image.Image image mode=RGBA size=780x236 at 0x7FC2711A86A0>"
            ]
          },
          "execution_count": 50,
          "metadata": {},
          "output_type": "execute_result"
        }
      ],
      "source": [
        "import visualkeras\n",
        "visualkeras.layered_view(review_model_1, legend = True, draw_volume = True, scale_xy = 0.5, scale_z = 0.001)"
      ]
    },
    {
      "cell_type": "markdown",
      "metadata": {
        "id": "-kx6wCuZzg9E"
      },
      "source": [
        "### 5. Model Training"
      ]
    },
    {
      "cell_type": "code",
      "execution_count": null,
      "metadata": {
        "id": "QUrtvIHa57cR"
      },
      "outputs": [],
      "source": [
        "vgg_model = create_model(input_shape, n_classes, optim_1, fine_tune=0)"
      ]
    },
    {
      "cell_type": "code",
      "execution_count": null,
      "metadata": {
        "id": "vTSpzzxY-oIc"
      },
      "outputs": [],
      "source": [
        "%%time\n",
        "\n",
        "vgg_history = vgg_model.fit(training_set,\n",
        "                            batch_size=batch_size,\n",
        "                            epochs=n_epochs,\n",
        "                            validation_data=valid_set,\n",
        "                            steps_per_epoch=n_steps,\n",
        "                            validation_steps=n_val_steps,\n",
        "                            callbacks=[tl_checkpoint_1, early_stop, plot_loss_1],\n",
        "                            verbose=1)"
      ]
    },
    {
      "cell_type": "code",
      "execution_count": null,
      "metadata": {
        "id": "dcpbSQEoX1_N"
      },
      "outputs": [],
      "source": [
        "training_set.reset()\n",
        "valid_set.reset()\n",
        "testing_set.reset()\n",
        "\n",
        "vgg_model_ft = create_model(input_shape, n_classes, optim_2, fine_tune=2)"
      ]
    },
    {
      "cell_type": "code",
      "execution_count": null,
      "metadata": {
        "id": "FDuzT6XvZFXh"
      },
      "outputs": [],
      "source": [
        "%%time\n",
        "\n",
        "vgg_ft_history = vgg_model_ft.fit(training_set,\n",
        "                                  batch_size=batch_size,\n",
        "                                  epochs=n_epochs,\n",
        "                                  validation_data=valid_set,\n",
        "                                  steps_per_epoch=n_steps,\n",
        "                                  validation_steps=n_val_steps,\n",
        "                                  callbacks=[tl_checkpoint_2, early_stop, plot_loss_2],\n",
        "                                  verbose=1)"
      ]
    },
    {
      "cell_type": "markdown",
      "metadata": {
        "id": "9X1Z6GOiz6Km"
      },
      "source": [
        "### 6. Classification Report"
      ]
    },
    {
      "cell_type": "code",
      "execution_count": null,
      "metadata": {
        "id": "5V-xmAP9BNHg"
      },
      "outputs": [],
      "source": [
        "from sklearn.preprocessing import label_binarize\n",
        "pred1 = vgg_model.predict(testing_set)\n",
        "labels = label_binarize(testing_set.classes, classes = [0,1,2])\n",
        "pd.DataFrame(classification_report(labels, pred1 > 0.5, output_dict=True))"
      ]
    },
    {
      "cell_type": "code",
      "execution_count": null,
      "metadata": {
        "id": "44hsh-xgaRpQ"
      },
      "outputs": [],
      "source": [
        "pred2 = vgg_model_ft.predict(testing_set)\n",
        "pd.DataFrame(classification_report(labels, pred2 > 0.5, output_dict=True))"
      ]
    }
  ],
  "metadata": {
    "colab": {
      "provenance": []
    },
    "kernelspec": {
      "display_name": "Python 3",
      "name": "python3"
    },
    "language_info": {
      "name": "python"
    }
  },
  "nbformat": 4,
  "nbformat_minor": 0
}
